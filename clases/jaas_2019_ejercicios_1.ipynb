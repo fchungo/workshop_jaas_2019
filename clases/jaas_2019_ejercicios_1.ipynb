{
 "cells": [
  {
   "cell_type": "markdown",
   "metadata": {},
   "source": [
    "# JAAS 2019 - Procesamiento de Señales en Python\n",
    "## Clase 1:  Ejercicios\n",
    "\n",
    "![](imagenes/workshop_logo_300x200.png)"
   ]
  },
  {
   "cell_type": "markdown",
   "metadata": {},
   "source": [
    "**1.** Representaremos una oscilación amortiguada con un array de numpy.\n",
    "\n",
    "\\begin{equation}\n",
    "    y = e^{-x}cos(2\\pi f \\cdot x)\n",
    "\\end{equation}\n",
    "\n",
    "Primero generaremos el vector tiempo con la función `linspace` con 100 muestras en el intervalo [0,1] y luego debemos generar la función sobre este intervalo."
   ]
  },
  {
   "cell_type": "code",
   "execution_count": null,
   "metadata": {},
   "outputs": [],
   "source": []
  },
  {
   "cell_type": "markdown",
   "metadata": {},
   "source": [
    "**2.** Completaremos los comandos mostrados a continuación:"
   ]
  },
  {
   "cell_type": "code",
   "execution_count": null,
   "metadata": {},
   "outputs": [],
   "source": [
    "# imprimir la longitud del array\n",
    "print('Tamaño del array:\\n')\n",
    "print()  # completar\n",
    "print(\"\\n\")\n",
    "\n",
    "# imprimir el valor de la función en el punto x = 0\n",
    "print('Valor de y para x=0 : \\n')\n",
    "print()  # completar\n",
    "print(\"\\n\")\n",
    "\n",
    "# imprimir los valores de la función entre las muestras 20 y 40\n",
    "print('Valores de y entre las muestras 20 y 40: \\n')\n",
    "print()  # completar\n",
    "print(\"\\n\")\n",
    "\n",
    "# imprimir los valores de la función para las últimas 10 muestras de la señal, usando índices negativos\n",
    "print('Valores de y para las últimas 10 muestras: \\n')\n",
    "print()  # completar\n",
    "print(\"\\n\")"
   ]
  }
 ],
 "metadata": {
  "kernelspec": {
   "display_name": "Python 3",
   "language": "python",
   "name": "python3"
  },
  "language_info": {
   "codemirror_mode": {
    "name": "ipython",
    "version": 3
   },
   "file_extension": ".py",
   "mimetype": "text/x-python",
   "name": "python",
   "nbconvert_exporter": "python",
   "pygments_lexer": "ipython3",
   "version": "3.7.3"
  }
 },
 "nbformat": 4,
 "nbformat_minor": 4
}
