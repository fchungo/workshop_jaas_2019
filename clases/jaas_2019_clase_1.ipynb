{
 "cells": [
  {
   "cell_type": "markdown",
   "metadata": {},
   "source": [
    "# JAAS 2019 - Procesamiento de Señales en Py\n",
    "## Clase 1:  Librerías para manipulación de datos numéricos\n",
    "\n",
    "![](imagenes/workshop_logo_300x200.png)"
   ]
  },
  {
   "cell_type": "markdown",
   "metadata": {},
   "source": [
    "## Índice\n",
    "\n",
    "* [Comenzando a usar Numpy](#Comenzando-a-usar-Numpy)\n",
    "* [Importando la libreria y creando un array](#Importando-la-libreria-y-creando-un-array)\n",
    "* [Arrays de datos](#Arrays-de-datos)\n",
    "    * [Listas y arrays](#Listas-y-arrays)\n",
    "    * [Longitud y dimensiones de un array](#Longitud-y-dimensiones-de-un-array)\n",
    "    * [Indizado en arrays](#Indizado-en-arrays)\n",
    "    * [Operaciones matematicas entre arrays](#Operaciones-matematicas-entre-arrays)\n",
    "    * [Aplicando funciones matematicas](#Aplicando-funciones-matematicas)\n",
    "* [Referencias](#Referencias)\n",
    "* [Licencia](#Licencia)"
   ]
  },
  {
   "cell_type": "markdown",
   "metadata": {},
   "source": [
    "### Comenzando a usar Numpy\n",
    "\n",
    "Numpy es la librería dedicada a definir vectores y matrices y realizar operaciones básicas entre ellos.\n",
    "\n",
    "El objeto principal con el que se trabaja en numpy es un **array** de una o varias dimensiones. El mismo contiene elementos, en general de formato numérico.  Se pueden definir las siguientes características para un array de numpy:\n",
    "\n",
    "* Los elementos que lo componen son todos de un mismo tipo o formato.\n",
    "* Cuenta con una longitud, igual a la cantidad de elementos que contiene por fila; y una cantidad de ejes o dimensiones, igual a la cantidad de filas que contiene.\n",
    "* Cada elemento del array posee un índice que denota su ubicación dentro del mismo.\n",
    "\n",
    "### Importando la libreria y creando un array\n",
    "\n",
    "Para utilizar Numpy en nuestro código, primero debemos importarla utilizando el comando `import numpy`. Existen varias formas de importar librerías en  Python. La primera es ingresando `import numpy as np`, y la segunda consiste en ingresar `from numpy import * `. \n",
    "Veamos en el ejemplo, cómo ‘llamamos’ a la misma para utilizarla en nuestro código. \n",
    "\n",
    "Una vez importada la librería, podemos crear un array de datos. Para hacerlo, utilizamos el objeto `numpy.array` de la siguiente manera:"
   ]
  },
  {
   "cell_type": "code",
   "execution_count": 2,
   "metadata": {},
   "outputs": [],
   "source": [
    "# 1° forma\n",
    "import numpy\n",
    "\n",
    "# 2° forma\n",
    "from numpy import *\n",
    "\n",
    "# 3° forma\n",
    "import numpy as np"
   ]
  },
  {
   "cell_type": "markdown",
   "metadata": {},
   "source": [
    "Por convención general, se suele utilizar la tercera forma para la importación de numpy. Es una forma de abreviar el nombre de la librería, y mantener la referencia de que estamos utilizando elementos de la misma. Esto nos importa para mantener cierto orden en nuestro código, por más que parezca tedioso estar anteponiendo 'np' cada vez que creamos numpy. En los ejemplos subsiguientes, vamos a considerar que se utilizó este método."
   ]
  },
  {
   "cell_type": "markdown",
   "metadata": {},
   "source": [
    "## Arrays de datos"
   ]
  },
  {
   "cell_type": "markdown",
   "metadata": {},
   "source": [
    "### Listas y arrays\n",
    "\n",
    "Nótese que al crear arrays, ésto se hace a partir de una lista, es decir que los **datos almacenados en formato de lista se convierten automáticamente en arrays**. Para ejemplificarlo mejor: "
   ]
  },
  {
   "cell_type": "code",
   "execution_count": 9,
   "metadata": {},
   "outputs": [
    {
     "data": {
      "text/plain": [
       "list"
      ]
     },
     "execution_count": 9,
     "metadata": {},
     "output_type": "execute_result"
    }
   ],
   "source": [
    "# creamos el mismo array 'a' a partir de una lista\n",
    "\n",
    "lista = [1,2,5,9]\n",
    "a = np.array(lista)\n",
    "type(a)\n",
    "type(lista)"
   ]
  },
  {
   "cell_type": "markdown",
   "metadata": {},
   "source": [
    "Pero, mientras en las listas se pueden incluir elementos de distinto tipo, **en el array todos deben ser un mismo tipo de datos**."
   ]
  },
  {
   "cell_type": "code",
   "execution_count": 10,
   "metadata": {},
   "outputs": [
    {
     "data": {
      "text/plain": [
       "array(['bla', '1', 'True', '3.14'], dtype='<U4')"
      ]
     },
     "execution_count": 10,
     "metadata": {},
     "output_type": "execute_result"
    }
   ],
   "source": [
    "# otra lista con datos de distinto tipo\n",
    "\n",
    "otra_lista = [\"bla\", 1, True, 3.14]\n",
    "\n",
    "# si la intentamos convertir en array, ¿fracasamos?:\n",
    "\n",
    "x = np.array(otra_lista)\n",
    "\n",
    "# le pedimos a la consola que nos muestre el array\n",
    "x"
   ]
  },
  {
   "cell_type": "markdown",
   "metadata": {},
   "source": [
    "Vemos que el array se crea a partir de una lista con elementos de distinto tipo. Sin embargo, le asigna a todos un mismo formato, en este caso un string del tipo *Unicode* con longitud igual a 4."
   ]
  },
  {
   "cell_type": "markdown",
   "metadata": {},
   "source": [
    "## Longitud y dimensiones de un array\n",
    "\n",
    "Los ejemplos mencionados hasta ahora han sido de arrays de una dimensión. Podemos crear **arrays de varias dimensiones** de la siguiente manera:"
   ]
  },
  {
   "cell_type": "code",
   "execution_count": 17,
   "metadata": {},
   "outputs": [
    {
     "data": {
      "text/plain": [
       "(2, 3)"
      ]
     },
     "execution_count": 17,
     "metadata": {},
     "output_type": "execute_result"
    }
   ],
   "source": [
    "# array de dos dimensiones y longitud igual a 3\n",
    "b = np.array([[1,2,3],[3,2,1]], dtype = np.uint8)\n",
    "\n",
    "# array de tres dimensiones y longitud igual a 2\n",
    "c = np.array([[1,-1],[0,1],[-5,2]])\n",
    "b.shape"
   ]
  },
  {
   "cell_type": "markdown",
   "metadata": {},
   "source": [
    "La **longitud** representa la cantidad de elementos que posee el array en sus filas. Su valor, y el de las dimensiones de un array, se pueden obtener de la siguiente manera: "
   ]
  },
  {
   "cell_type": "code",
   "execution_count": 19,
   "metadata": {},
   "outputs": [
    {
     "data": {
      "text/plain": [
       "3"
      ]
     },
     "execution_count": 19,
     "metadata": {},
     "output_type": "execute_result"
    }
   ],
   "source": [
    "# devuelve la forma de un array, de la siguiente forma (n° de filas, n° de columnas)\n",
    "(dimensiones, longitud) = b.shape\n",
    "longitud"
   ]
  },
  {
   "cell_type": "markdown",
   "metadata": {},
   "source": [
    "## Indizado en arrays\n",
    "\n",
    "Los **índices** se utilizan para indicar la posición de cada elemento de un array. De esta manera, podemos acceder al valor de una posición específica o extraer el valor de un grupo de elementos. Cada elemento posee una posición *[i,j]*, donde 'i' representa el número de fila y 'j' representa el número  de columna en que se ubica."
   ]
  },
  {
   "cell_type": "code",
   "execution_count": 25,
   "metadata": {},
   "outputs": [
    {
     "name": "stdout",
     "output_type": "stream",
     "text": [
      "2\n"
     ]
    }
   ],
   "source": [
    "# devuelve el elemento de la posición [1,2] del array 'a', igual a 2.\n",
    "#print(b[1,0])\n",
    "\n",
    "# devuelve el elemento de la posición [2,0] del array 'b', igual a -5.\n",
    "print(c[2,1])\n"
   ]
  },
  {
   "cell_type": "code",
   "execution_count": 28,
   "metadata": {},
   "outputs": [
    {
     "name": "stdout",
     "output_type": "stream",
     "text": [
      "[ 1  2  5 13]\n"
     ]
    }
   ],
   "source": [
    "fibo = np.array([0,1,1,2,3,5,8,13,21,34], dtype = np.uint8)\n",
    "print (fibo[1:8:2])"
   ]
  },
  {
   "cell_type": "markdown",
   "metadata": {},
   "source": [
    "Es importante tener en cuenta que los índices que se asignan se inician desde 0, por lo que si tengo 4 elementos, sus índices irán del rango de 0 a 3.\n",
    "Podemos **desplazarnos** dentro de una array, y **seleccionar** un rango de elementos utilizando la notación *[i: j: k]*, donde 'i' representa el índice a partir del cual nos desplazamos, 'j' es el índice en el cual nos detenemos y 'k' es el paso con el cual nos desplazamos a los elementos subsiguientes. "
   ]
  },
  {
   "cell_type": "code",
   "execution_count": 33,
   "metadata": {},
   "outputs": [
    {
     "name": "stdout",
     "output_type": "stream",
     "text": [
      "[ 1  1  2  3  5  8 13 21 34]\n"
     ]
    }
   ],
   "source": [
    "fibo = np.array([0,1,1,2,3,5,8,13,21,34], dtype = np.uint8)\n",
    "\n",
    "\n",
    "\n",
    "# desplazamiento desde la posición 3 hasta el final del array\n",
    "print (fibo[1:12])\n"
   ]
  },
  {
   "cell_type": "markdown",
   "metadata": {},
   "source": [
    "## Operaciones matematicas entre arrays\n",
    "\n",
    "Las operaciones matemáticas entre arrays se realizan **elemento a elemento**. Esto quiere decir que si sumamos dos arrays 'a' y 'b', el elemento *a[i,j]* se suma con el elemento *b[i,j]*. Por lo tanto, debemos operar entre arrays de iguales tamaños (aunque existen excepciones, las cuales veremos en el apartado ['broadcasting'](#Broadcasting))."
   ]
  },
  {
   "cell_type": "code",
   "execution_count": 34,
   "metadata": {},
   "outputs": [],
   "source": [
    "import numpy as np\n",
    "\n",
    "a = np.array([1,2,3,1], dtype = np.uint8)\n",
    "b = np.array([2,4,2,1], dtype = np.uint8)"
   ]
  },
  {
   "cell_type": "code",
   "execution_count": 35,
   "metadata": {},
   "outputs": [
    {
     "data": {
      "text/plain": [
       "array([ 5, 10, 15,  5], dtype=uint8)"
      ]
     },
     "execution_count": 35,
     "metadata": {},
     "output_type": "execute_result"
    }
   ],
   "source": [
    "# producto por escalar\n",
    "5 * a"
   ]
  },
  {
   "cell_type": "code",
   "execution_count": 36,
   "metadata": {},
   "outputs": [
    {
     "data": {
      "text/plain": [
       "array([3, 6, 5, 2], dtype=uint8)"
      ]
     },
     "execution_count": 36,
     "metadata": {},
     "output_type": "execute_result"
    }
   ],
   "source": [
    "# suma de arrays (la resta es igual)\n",
    "a + b"
   ]
  },
  {
   "cell_type": "code",
   "execution_count": 37,
   "metadata": {},
   "outputs": [
    {
     "data": {
      "text/plain": [
       "array([2, 8, 6, 1], dtype=uint8)"
      ]
     },
     "execution_count": 37,
     "metadata": {},
     "output_type": "execute_result"
    }
   ],
   "source": [
    "# producto de arrays (elemento a elemento)\n",
    "a * b"
   ]
  },
  {
   "cell_type": "code",
   "execution_count": 38,
   "metadata": {},
   "outputs": [
    {
     "data": {
      "text/plain": [
       "17"
      ]
     },
     "execution_count": 38,
     "metadata": {},
     "output_type": "execute_result"
    }
   ],
   "source": [
    "# producto matricial entre arrays\n",
    "a.dot(b)"
   ]
  },
  {
   "cell_type": "code",
   "execution_count": 39,
   "metadata": {},
   "outputs": [
    {
     "data": {
      "text/plain": [
       "array([0.5, 0.5, 1.5, 1. ])"
      ]
     },
     "execution_count": 39,
     "metadata": {},
     "output_type": "execute_result"
    }
   ],
   "source": [
    "# cociente de arrays\n",
    "a / b"
   ]
  },
  {
   "cell_type": "code",
   "execution_count": 40,
   "metadata": {},
   "outputs": [
    {
     "data": {
      "text/plain": [
       "array([ 1, 16,  9,  1], dtype=uint8)"
      ]
     },
     "execution_count": 40,
     "metadata": {},
     "output_type": "execute_result"
    }
   ],
   "source": [
    "# potencia de arrays (?)\n",
    "a**b"
   ]
  },
  {
   "cell_type": "code",
   "execution_count": 41,
   "metadata": {},
   "outputs": [
    {
     "data": {
      "text/plain": [
       "array([1, 2, 1, 0], dtype=uint8)"
      ]
     },
     "execution_count": 41,
     "metadata": {},
     "output_type": "execute_result"
    }
   ],
   "source": [
    "# operación módulo\n",
    "a % b"
   ]
  },
  {
   "cell_type": "code",
   "execution_count": 42,
   "metadata": {},
   "outputs": [
    {
     "data": {
      "text/plain": [
       "array([ 1., 16.,  9.,  1.], dtype=float16)"
      ]
     },
     "execution_count": 42,
     "metadata": {},
     "output_type": "execute_result"
    }
   ],
   "source": [
    "# ahora intento de nuevo convirtiendo el formato de 'a' a un float\n",
    "a = np.array([1,2,3,1], dtype = np.float16)\n",
    "\n",
    "# y entonces...\n",
    "a**b"
   ]
  },
  {
   "cell_type": "markdown",
   "metadata": {},
   "source": [
    "## Aplicando funciones matematicas\n",
    "\n",
    "Numpy dispone de varias funciones matemáticas para aplicar sobre un simple escalar o sobre un array. En esta sección nos enfocaremos en la creación de funciones trigonométricas y logarítmicas específicamente. La lista completa de funciones matemáticas que provee Numpy puede verse haciendo [clic acá](https://docs.scipy.org/doc/numpy/reference/routines.math.html#trigonometric-functions).\n",
    "\n",
    "Veamos algunos ejemplos:"
   ]
  },
  {
   "cell_type": "code",
   "execution_count": 61,
   "metadata": {},
   "outputs": [
    {
     "data": {
      "text/plain": [
       "array([0.        , 1.72787596, 3.14159265, 4.71238898])"
      ]
     },
     "execution_count": 61,
     "metadata": {},
     "output_type": "execute_result"
    }
   ],
   "source": [
    "# multiplico una array por el escalar pi.\n",
    "x = np.array([0, .55, 1, 1.5])*np.pi\n",
    "x"
   ]
  },
  {
   "cell_type": "code",
   "execution_count": 62,
   "metadata": {},
   "outputs": [
    {
     "name": "stdout",
     "output_type": "stream",
     "text": [
      "[ 0.    0.99  0.   -1.  ]\n"
     ]
    }
   ],
   "source": [
    "f_seno = np.sin(x).round(2)\n",
    "\n",
    "print(f_seno)"
   ]
  },
  {
   "cell_type": "code",
   "execution_count": 64,
   "metadata": {},
   "outputs": [
    {
     "name": "stdout",
     "output_type": "stream",
     "text": [
      "[ 1. -0. -1. -0.]\n"
     ]
    }
   ],
   "source": [
    "f_coseno = np.cos(x).round()\n",
    "\n",
    "print(f_coseno)"
   ]
  },
  {
   "cell_type": "markdown",
   "metadata": {},
   "source": [
    "Entonces, podemos crear arrays para representar funciones matemáticas conocidas. Primero creamos un array para definir una serie de puntos en el dominio de la función y luego aplicamos la función sobre estos puntos.\n",
    "\n",
    "En los últimos ejemplos, podemos notar que los valores de las funciones seno y coseno se aproximaron a cero pero no fueron exactamente iguales a ese número. Esto se debe a la precisión de los formatos *float*, podemos hacer la prueba de definir *x* con floats de 32 y 64 bits y veremos que los valores se aproximan más al número deseado.\n",
    "\n",
    "Entonces, ¿cómo podemos crear un array que represente a una función senoidal en el dominio del tiempo? Anteriormente vimos cómo crear secuencias numéricas, y una de las funciones que utilizamos fue *linspace*. Ahora vamos a aprovecharla para crear una representación de una función."
   ]
  },
  {
   "cell_type": "code",
   "execution_count": 71,
   "metadata": {},
   "outputs": [
    {
     "data": {
      "text/plain": [
       "array([ 0.       ,  0.7853982,  1.5707964,  2.3561945,  3.1415927,\n",
       "        3.9269907,  4.712389 ,  5.497787 ,  6.2831855,  7.0685835,\n",
       "        7.8539815,  8.6393795,  9.424778 , 10.210176 , 10.995574 ,\n",
       "       11.7809725, 12.566371 , 13.3517685, 14.137167 , 14.922565 ,\n",
       "       15.707963 ], dtype=float32)"
      ]
     },
     "execution_count": 71,
     "metadata": {},
     "output_type": "execute_result"
    }
   ],
   "source": [
    "x = np.linspace(0, 5*np.pi, 21, dtype=np.float32)\n",
    "x"
   ]
  },
  {
   "cell_type": "markdown",
   "metadata": {},
   "source": [
    "Con *x* tenemos representados los puntos en el dominio del tiempo, ahora tenemos que generar la función trigonométrica para estos valores."
   ]
  },
  {
   "cell_type": "code",
   "execution_count": 73,
   "metadata": {},
   "outputs": [
    {
     "name": "stdout",
     "output_type": "stream",
     "text": [
      "[ 1.  1. -0. -1. -1. -1.  0.  1.  1.  1.  0. -1. -1. -1. -0.  1.  1.  1.\n",
      " -0. -1. -1.]\n"
     ]
    }
   ],
   "source": [
    "f_trig_1 = np.cos(x).round()\n",
    "\n",
    "print (f_trig_1)"
   ]
  },
  {
   "cell_type": "markdown",
   "metadata": {},
   "source": [
    "Por último, un ejemplo de logaritmos. Nos sirve también para ver cómo utilizar `numpy.power` para aplicar potencias"
   ]
  },
  {
   "cell_type": "code",
   "execution_count": 80,
   "metadata": {},
   "outputs": [
    {
     "data": {
      "text/plain": [
       "array([ 0.        , 27.04185194, 30.04785867, 31.80733924, 33.05601042,\n",
       "       34.02468078, 34.81620671, 35.48546992, 36.06523587, 36.57664169,\n",
       "       37.03412107, 37.44796976, 37.82579024, 38.17335619, 38.49515578,\n",
       "       38.79474707, 39.07499848, 39.33825626, 39.586464  , 39.82124981,\n",
       "       40.04399113, 40.25586365, 40.4578789 , 40.65091346, 40.83573194,\n",
       "       41.01300528, 41.18332544, 41.34721736, 41.50514865, 41.65753773,\n",
       "       41.80476042, 41.94715556, 42.08502974, 42.21866121, 42.34830332,\n",
       "       42.47418737, 42.59652511, 42.71551088, 42.83132349, 42.94412779,\n",
       "       43.05407613, 43.16130954, 43.26595888, 43.36814577, 43.46798343,\n",
       "       43.56557746, 43.66102649, 43.75442277, 43.84585276, 43.93539753,\n",
       "       44.02313326, 44.10913161, 44.19346004, 44.27618218, 44.35735808,\n",
       "       44.43704448, 44.51529506, 44.59216065, 44.66768943, 44.7419271 ,\n",
       "       44.81491706, 44.88670056, 44.95731683, 45.02680323, 45.09519534,\n",
       "       45.1625271 , 45.22883088, 45.29413761, 45.35847682, 45.42187677,\n",
       "       45.48436448, 45.54596584, 45.60670563, 45.66660763, 45.72569464,\n",
       "       45.78398853, 45.84151031, 45.89828017, 45.95431751, 46.009641  ,\n",
       "       46.0642686 , 46.11821759, 46.17150463, 46.22414576, 46.27615647,\n",
       "       46.32755166, 46.37834574, 46.4285526 , 46.47818568, 46.52725792,\n",
       "       46.57578188, 46.62376966, 46.67123298, 46.71818319, 46.76463125,\n",
       "       46.81058781, 46.85606314, 46.90106723, 46.94560974, 46.98970004])"
      ]
     },
     "execution_count": 80,
     "metadata": {},
     "output_type": "execute_result"
    }
   ],
   "source": [
    "import numpy as np\n",
    "\n",
    "p_ref = 2*np.power(10.,-5)\n",
    "p = np.linspace(p_ref, 1, 100) # la base en número float! -> 10.\n",
    "\n",
    "p_log = 10*np.log10(p/p_ref)\n",
    "p_log"
   ]
  },
  {
   "cell_type": "code",
   "execution_count": 84,
   "metadata": {},
   "outputs": [
    {
     "data": {
      "text/plain": [
       "46.94560974062482"
      ]
     },
     "execution_count": 84,
     "metadata": {},
     "output_type": "execute_result"
    }
   ],
   "source": [
    "p_log[-2]"
   ]
  },
  {
   "cell_type": "markdown",
   "metadata": {},
   "source": [
    "## Referencias\n",
    "\n",
    " * *Numpy User Guide*, https://www.numpy.org/\n",
    "\n",
    " * Scott Shell, *An introduction to Numpy and Scipy*, 2014. "
   ]
  },
  {
   "cell_type": "markdown",
   "metadata": {},
   "source": [
    "## Licencia\n",
    "\n",
    "<a rel=\"license\" href=\"http://creativecommons.org/licenses/by-sa/4.0/\"><img alt=\"Licencia de Creative Commons\" style=\"border-width:0\" src=\"https://i.creativecommons.org/l/by-sa/4.0/88x31.png\" /></a><br />Este documento se destribuye con una <a rel=\"license\" href=\"http://creativecommons.org/licenses/by-sa/4.0/\">licencia Atribución CompartirIgual 4.0 Internacional de Creative Commons</a>.\n",
    "\n",
    "© 2019. Infiniem Lab DSP. **infiniemlab.dsp@gmail.com**. ICurso de Procesamiento de Señales en Python (CC BY-SA 4.0)"
   ]
  }
 ],
 "metadata": {
  "kernelspec": {
   "display_name": "Python 3",
   "language": "python",
   "name": "python3"
  },
  "language_info": {
   "codemirror_mode": {
    "name": "ipython",
    "version": 3
   },
   "file_extension": ".py",
   "mimetype": "text/x-python",
   "name": "python",
   "nbconvert_exporter": "python",
   "pygments_lexer": "ipython3",
   "version": "3.7.3"
  }
 },
 "nbformat": 4,
 "nbformat_minor": 4
}
